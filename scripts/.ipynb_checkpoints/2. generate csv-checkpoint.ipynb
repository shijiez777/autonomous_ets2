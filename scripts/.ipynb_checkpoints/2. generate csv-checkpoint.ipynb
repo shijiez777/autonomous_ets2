{
 "cells": [
  {
   "cell_type": "markdown",
   "id": "tropical-olive",
   "metadata": {},
   "source": [
    "### Extract useful info from jsons, and store in a csv."
   ]
  },
  {
   "cell_type": "code",
   "execution_count": 1,
   "id": "christian-porcelain",
   "metadata": {},
   "outputs": [],
   "source": [
    "import json\n",
    "import csv\n",
    "import os\n",
    "# ADD project path instead of module path\n",
    "import sys\n",
    "sys.path.append(os.path.join(os.getcwd(), \"..\"))\n",
    "from ets2drive.helpers import read_yaml, read_json"
   ]
  },
  {
   "cell_type": "code",
   "execution_count": 2,
   "id": "negative-theology",
   "metadata": {},
   "outputs": [],
   "source": [
    "config_path = \"../config/config.yml\"\n",
    "\n",
    "config = read_yaml(os.path.abspath(config_path))\n",
    "json_folder = config['json_folder']\n",
    "img_folder = config['img_folder']\n",
    "csv_folder = config['csv_folder']\n",
    "os.makedirs(csv_folder, exist_ok=True)"
   ]
  },
  {
   "cell_type": "markdown",
   "id": "convinced-leave",
   "metadata": {},
   "source": [
    "Manually inspect folder above in json and img folder, remove first and last several frames."
   ]
  },
  {
   "cell_type": "code",
   "execution_count": 16,
   "id": "nuclear-involvement",
   "metadata": {},
   "outputs": [],
   "source": [
    "columns = ['img', 'speed', 'cruiseControlSpeed', 'cruiseControlOn', 'userSteer', \\\n",
    "    'userThrottle', 'userBrake', 'wipersOn', 'blinkerLeftActive', 'blinkerRightActive', \\\n",
    "    'truckX', 'truckY', 'truckZ', 'truckHeading', 'pitch', 'roll', 'deltax', 'deltay', \\\n",
    "    'deltaz', 'trailermass', 'trailerwear', 'trailerHeading', 'trailerPitch', 'trailerRoll', \\\n",
    "    'speedLimit', 'remainingTime', 'estimatedTime', 'estimatedDistance', 'lightsBeamLowOn', \\\n",
    "    'lightsBeamHighOn', 'gemeSteer', 'gameThrottle', 'gameBrake']"
   ]
  },
  {
   "cell_type": "code",
   "execution_count": 24,
   "id": "warming-april",
   "metadata": {},
   "outputs": [],
   "source": [
    "def extract_row(jsonfile, config, raw_data, row):\n",
    "    row[0] = jsonfile[:-5] + config['img_ext']\n",
    "    row[1] = raw_data[\"truck\"]['speed']\n",
    "    row[2] = raw_data[\"truck\"]['cruiseControlSpeed']\n",
    "    row[3] = raw_data[\"truck\"]['cruiseControlOn']\n",
    "    row[4] = raw_data[\"truck\"]['userSteer']\n",
    "    row[5] = raw_data[\"truck\"]['userThrottle']\n",
    "    row[6] = raw_data[\"truck\"]['userBrake']\n",
    "    row[7] = raw_data[\"truck\"]['wipersOn']\n",
    "    row[8] = raw_data[\"truck\"]['blinkerLeftActive']\n",
    "    row[9] = raw_data[\"truck\"]['blinkerRightActive']\n",
    "    row[10] = raw_data[\"truck\"][\"placement\"]['x']\n",
    "    row[11] = raw_data[\"truck\"][\"placement\"]['y']\n",
    "    row[12] = raw_data[\"truck\"][\"placement\"]['z']\n",
    "    row[13] = raw_data[\"truck\"][\"placement\"]['heading']\n",
    "    row[14] = raw_data[\"truck\"][\"placement\"]['pitch']\n",
    "    row[15] = raw_data[\"truck\"][\"placement\"]['roll']\n",
    "    row[16] = raw_data[\"truck\"][\"acceleration\"]['x']\n",
    "    row[17] = raw_data[\"truck\"][\"acceleration\"]['y']\n",
    "    row[18] = raw_data[\"truck\"][\"acceleration\"]['z']\n",
    "    row[19] = raw_data[\"trailer\"]['mass']\n",
    "    row[20] = raw_data[\"trailer\"]['wear']\n",
    "    row[21] = raw_data[\"trailer\"]['placement']['heading']\n",
    "    row[22] = raw_data[\"trailer\"]['placement']['pitch']\n",
    "    row[23] = raw_data[\"trailer\"]['placement']['roll']\n",
    "    row[24] = raw_data[\"navigation\"]['speedLimit']\n",
    "    row[25] = raw_data[\"job\"]['remainingTime']\n",
    "    row[26] = raw_data[\"navigation\"]['estimatedTime']\n",
    "    row[27] = raw_data[\"navigation\"]['estimatedDistance']\n",
    "    row[28] = raw_data[\"truck\"]['lightsBeamLowOn']\n",
    "    row[29] = raw_data[\"truck\"]['lightsBeamHighOn']\n",
    "    row[30] = raw_data[\"truck\"]['gameSteer']\n",
    "    row[31] = raw_data[\"truck\"]['gameThrottle']\n",
    "    row[32] = raw_data[\"truck\"]['gameBrake']"
   ]
  },
  {
   "cell_type": "code",
   "execution_count": 26,
   "id": "forbidden-penny",
   "metadata": {},
   "outputs": [],
   "source": [
    "for timestamp in os.listdir(json_folder):\n",
    "    csvfile = open(os.path.join(csv_folder, (timestamp +\".csv\")), 'w', newline=\"\")\n",
    "    obj = csv.writer(csvfile)\n",
    "    obj.writerow(columns)\n",
    "    row = [\"\"] * len(columns)\n",
    "    json_subfolder = os.path.join(json_folder, timestamp)\n",
    "    jsonfiles = os.listdir(json_subfolder)\n",
    "    jsonfiles.sort()\n",
    "    for jsonfile in jsonfiles:\n",
    "        raw_data = read_json(os.path.join(json_subfolder, jsonfile))\n",
    "        extract_row(jsonfile, config, raw_data, row)\n",
    "        obj.writerow(row)\n",
    "    csvfile.close()"
   ]
  }
 ],
 "metadata": {
  "kernelspec": {
   "display_name": "tf2gpu",
   "language": "python",
   "name": "tf2gpu"
  },
  "language_info": {
   "codemirror_mode": {
    "name": "ipython",
    "version": 3
   },
   "file_extension": ".py",
   "mimetype": "text/x-python",
   "name": "python",
   "nbconvert_exporter": "python",
   "pygments_lexer": "ipython3",
   "version": "3.8.5"
  }
 },
 "nbformat": 4,
 "nbformat_minor": 5
}
