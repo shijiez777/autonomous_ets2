{
 "cells": [
  {
   "cell_type": "code",
   "execution_count": 1,
   "id": "cognitive-peeing",
   "metadata": {},
   "outputs": [],
   "source": [
    "import requests as req\n",
    "import json"
   ]
  },
  {
   "cell_type": "code",
   "execution_count": 2,
   "id": "compatible-princess",
   "metadata": {},
   "outputs": [],
   "source": [
    "response = req.get(\"http://localhost:25555/api/ets2/telemetry\")\n",
    "raw_data = json.loads(response.content)"
   ]
  },
  {
   "cell_type": "code",
   "execution_count": 5,
   "id": "straight-webcam",
   "metadata": {},
   "outputs": [],
   "source": [
    "import os"
   ]
  },
  {
   "cell_type": "code",
   "execution_count": 7,
   "id": "hybrid-virus",
   "metadata": {},
   "outputs": [],
   "source": [
    "os.chdir('../ets2drive')\n",
    "from controllerInput import XboxController"
   ]
  },
  {
   "cell_type": "code",
   "execution_count": 8,
   "id": "manual-modification",
   "metadata": {},
   "outputs": [
    {
     "data": {
      "text/plain": [
       "{'connected': False,\n",
       " 'gameName': None,\n",
       " 'paused': False,\n",
       " 'time': '0001-01-01T00:00:00Z',\n",
       " 'timeScale': 0.0,\n",
       " 'nextRestStopTime': '0001-01-01T00:00:00Z',\n",
       " 'version': '0.0',\n",
       " 'telemetryPluginVersion': '0'}"
      ]
     },
     "execution_count": 8,
     "metadata": {},
     "output_type": "execute_result"
    }
   ],
   "source": [
    "xc = XboxController()\n",
    "raw_data['game']"
   ]
  },
  {
   "cell_type": "code",
   "execution_count": 9,
   "id": "individual-borough",
   "metadata": {},
   "outputs": [
    {
     "name": "stdout",
     "output_type": "stream",
     "text": [
      "dict_keys(['game', 'truck', 'trailer', 'job', 'navigation'])\n"
     ]
    }
   ],
   "source": [
    "print(raw_data.keys())"
   ]
  },
  {
   "cell_type": "code",
   "execution_count": 10,
   "id": "distant-specialist",
   "metadata": {},
   "outputs": [],
   "source": [
    "raw_data['uinput'] = xc.read()"
   ]
  },
  {
   "cell_type": "code",
   "execution_count": 11,
   "id": "approved-orchestra",
   "metadata": {},
   "outputs": [
    {
     "name": "stdout",
     "output_type": "stream",
     "text": [
      "dict_keys(['game', 'truck', 'trailer', 'job', 'navigation', 'uinput'])\n"
     ]
    }
   ],
   "source": [
    "print(raw_data.keys())"
   ]
  },
  {
   "cell_type": "code",
   "execution_count": 12,
   "id": "valid-moderator",
   "metadata": {},
   "outputs": [
    {
     "data": {
      "text/plain": [
       "{'steer': 0.00787353515625, 'throttle': 0, 'brake': 0}"
      ]
     },
     "execution_count": 12,
     "metadata": {},
     "output_type": "execute_result"
    },
    {
     "name": "stderr",
     "output_type": "stream",
     "text": [
      "Exception in thread Thread-6:\n",
      "Traceback (most recent call last):\n",
      "  File \"C:\\Users\\shiji\\miniconda3\\envs\\tf2gpu\\lib\\threading.py\", line 932, in _bootstrap_inner\n",
      "    self.run()\n",
      "  File \"C:\\Users\\shiji\\miniconda3\\envs\\tf2gpu\\lib\\threading.py\", line 870, in run\n",
      "    self._target(*self._args, **self._kwargs)\n",
      "  File \"C:\\Users\\shiji\\Desktop\\projects\\autonomous_ets2\\ets2drive\\controllerInput.py\", line 55, in _monitor_controller\n",
      "    events = get_gamepad()\n",
      "  File \"C:\\Users\\shiji\\miniconda3\\envs\\tf2gpu\\lib\\site-packages\\inputs.py\", line 3679, in get_gamepad\n",
      "    return gamepad.read()\n",
      "  File \"C:\\Users\\shiji\\miniconda3\\envs\\tf2gpu\\lib\\site-packages\\inputs.py\", line 2517, in read\n",
      "    return next(iter(self))\n",
      "  File \"C:\\Users\\shiji\\miniconda3\\envs\\tf2gpu\\lib\\site-packages\\inputs.py\", line 2686, in __iter__\n",
      "    self.__check_state()\n",
      "  File \"C:\\Users\\shiji\\miniconda3\\envs\\tf2gpu\\lib\\site-packages\\inputs.py\", line 2695, in __check_state\n",
      "    raise UnpluggedError(\n",
      "inputs.UnpluggedError: Gamepad 0 is not connected\n"
     ]
    }
   ],
   "source": [
    "raw_data['uinput']"
   ]
  }
 ],
 "metadata": {
  "kernelspec": {
   "display_name": "tf2gpu",
   "language": "python",
   "name": "tf2gpu"
  },
  "language_info": {
   "codemirror_mode": {
    "name": "ipython",
    "version": 3
   },
   "file_extension": ".py",
   "mimetype": "text/x-python",
   "name": "python",
   "nbconvert_exporter": "python",
   "pygments_lexer": "ipython3",
   "version": "3.8.5"
  }
 },
 "nbformat": 4,
 "nbformat_minor": 5
}
