{
 "cells": [
  {
   "cell_type": "code",
   "execution_count": 6,
   "id": "passing-genesis",
   "metadata": {},
   "outputs": [],
   "source": [
    "import pyvjoy\n",
    "import time"
   ]
  },
  {
   "cell_type": "code",
   "execution_count": 2,
   "id": "brief-parish",
   "metadata": {},
   "outputs": [
    {
     "data": {
      "text/plain": [
       "1"
      ]
     },
     "execution_count": 2,
     "metadata": {},
     "output_type": "execute_result"
    }
   ],
   "source": [
    "j = pyvjoy.VJoyDevice(1)\n"
   ]
  },
  {
   "cell_type": "code",
   "execution_count": 8,
   "id": "killing-partition",
   "metadata": {},
   "outputs": [
    {
     "data": {
      "text/plain": [
       "1"
      ]
     },
     "execution_count": 8,
     "metadata": {},
     "output_type": "execute_result"
    }
   ],
   "source": [
    "time.sleep(5)\n",
    "j.set_axis(pyvjoy.HID_USAGE_X, 0x8000)\n",
    "j.update()\n"
   ]
  },
  {
   "cell_type": "code",
   "execution_count": null,
   "id": "creative-administration",
   "metadata": {},
   "outputs": [],
   "source": [
    "j.data.wAxisX = 0x4000 \n",
    "j.data.wAxisY= 0x4000\n",
    "j.update()\n"
   ]
  },
  {
   "cell_type": "code",
   "execution_count": 7,
   "id": "intensive-academy",
   "metadata": {},
   "outputs": [
    {
     "ename": "KeyboardInterrupt",
     "evalue": "",
     "output_type": "error",
     "traceback": [
      "\u001b[1;31m---------------------------------------------------------------------------\u001b[0m",
      "\u001b[1;31mKeyboardInterrupt\u001b[0m                         Traceback (most recent call last)",
      "\u001b[1;32m<ipython-input-7-335c57e2413c>\u001b[0m in \u001b[0;36m<module>\u001b[1;34m\u001b[0m\n\u001b[0;32m      2\u001b[0m     \u001b[0mj\u001b[0m\u001b[1;33m.\u001b[0m\u001b[0mset_axis\u001b[0m\u001b[1;33m(\u001b[0m\u001b[0mpyvjoy\u001b[0m\u001b[1;33m.\u001b[0m\u001b[0mHID_USAGE_X\u001b[0m\u001b[1;33m,\u001b[0m \u001b[1;36m0x8000\u001b[0m\u001b[1;33m)\u001b[0m\u001b[1;33m\u001b[0m\u001b[1;33m\u001b[0m\u001b[0m\n\u001b[0;32m      3\u001b[0m     \u001b[0mj\u001b[0m\u001b[1;33m.\u001b[0m\u001b[0mupdate\u001b[0m\u001b[1;33m(\u001b[0m\u001b[1;33m)\u001b[0m\u001b[1;33m\u001b[0m\u001b[1;33m\u001b[0m\u001b[0m\n\u001b[1;32m----> 4\u001b[1;33m     \u001b[0mtime\u001b[0m\u001b[1;33m.\u001b[0m\u001b[0msleep\u001b[0m\u001b[1;33m(\u001b[0m\u001b[1;36m0.12\u001b[0m\u001b[1;33m)\u001b[0m\u001b[1;33m\u001b[0m\u001b[1;33m\u001b[0m\u001b[0m\n\u001b[0m",
      "\u001b[1;31mKeyboardInterrupt\u001b[0m: "
     ]
    }
   ],
   "source": [
    "while 1:\n",
    "    j.set_axis(pyvjoy.HID_USAGE_X, 0x8000)\n",
    "    j.update()\n",
    "    time.sleep(0.12)"
   ]
  },
  {
   "cell_type": "code",
   "execution_count": null,
   "id": "overall-turning",
   "metadata": {},
   "outputs": [],
   "source": []
  },
  {
   "cell_type": "code",
   "execution_count": 9,
   "id": "political-release",
   "metadata": {},
   "outputs": [],
   "source": [
    "a = pyvjoy.VJoyDevice(1)"
   ]
  },
  {
   "cell_type": "code",
   "execution_count": 10,
   "id": "pending-membership",
   "metadata": {},
   "outputs": [
    {
     "data": {
      "text/plain": [
       "<pyvjoy.vjoydevice.VJoyDevice at 0x2af60eac4c0>"
      ]
     },
     "execution_count": 10,
     "metadata": {},
     "output_type": "execute_result"
    }
   ],
   "source": [
    "a."
   ]
  },
  {
   "cell_type": "code",
   "execution_count": 8,
   "id": "broadband-drink",
   "metadata": {},
   "outputs": [],
   "source": [
    "import pyvjoy\n",
    "\n",
    "class PlayHelper:\n",
    "\n",
    "    def __init__(self, player_index):\n",
    "        self.device = pyvjoy.VJoyDevice(player_index + 1)\n",
    "\n",
    "    def update_controller(self, output):\n",
    "        self.device.data.wAxisX = output[0]\n",
    "        self.device.data.wAxisY = output[1]\n",
    "        self.device.data.wAxisZRot = output[2]\n",
    "        self.device.data.wAxisZ = output[3]\n",
    "        self.device.data.lButtons = (1 * output[4]) + (2 * output[5]) + (4 * output[6])\n",
    "\n",
    "        self.device.data.wAxisXRot = 16383\n",
    "        self.device.data.wAxisYRot = 16383\n",
    "\n",
    "        self.device.update() # Send data to vJoy device\n"
   ]
  }
 ],
 "metadata": {
  "kernelspec": {
   "display_name": "tf2gpu",
   "language": "python",
   "name": "tf2gpu"
  },
  "language_info": {
   "codemirror_mode": {
    "name": "ipython",
    "version": 3
   },
   "file_extension": ".py",
   "mimetype": "text/x-python",
   "name": "python",
   "nbconvert_exporter": "python",
   "pygments_lexer": "ipython3",
   "version": "3.8.5"
  }
 },
 "nbformat": 4,
 "nbformat_minor": 5
}
