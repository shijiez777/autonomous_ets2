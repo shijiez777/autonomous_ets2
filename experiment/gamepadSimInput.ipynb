{
 "cells": [
  {
   "cell_type": "code",
   "execution_count": 6,
   "id": "useful-growing",
   "metadata": {},
   "outputs": [],
   "source": [
    "import pyvjoy\n",
    "import time"
   ]
  },
  {
   "cell_type": "code",
   "execution_count": 2,
   "id": "educational-mandate",
   "metadata": {},
   "outputs": [
    {
     "data": {
      "text/plain": [
       "1"
      ]
     },
     "execution_count": 2,
     "metadata": {},
     "output_type": "execute_result"
    }
   ],
   "source": [
    "j = pyvjoy.VJoyDevice(1)\n"
   ]
  },
  {
   "cell_type": "code",
   "execution_count": 8,
   "id": "weird-batch",
   "metadata": {},
   "outputs": [
    {
     "data": {
      "text/plain": [
       "1"
      ]
     },
     "execution_count": 8,
     "metadata": {},
     "output_type": "execute_result"
    }
   ],
   "source": [
    "time.sleep(5)\n",
    "j.set_axis(pyvjoy.HID_USAGE_X, 0x8000)\n",
    "j.update()\n"
   ]
  },
  {
   "cell_type": "code",
   "execution_count": 12,
   "id": "instant-parent",
   "metadata": {},
   "outputs": [],
   "source": [
    "MAX_VJOY = 32767\n",
    "\n",
    "def play_function(j,X):\n",
    "    j.data.wAxisX = int(X * MAX_VJOY)\n",
    "    # j.data.wAxisY = int(Y * self.MAX_VJOY)\n",
    "    # j.data.wAxisZ = int(Z * self.MAX_VJOY)\n",
    "    # j.data.wAxisXRot = int(XRot * self.MAX_VJOY)\n",
    "    j.update()"
   ]
  },
  {
   "cell_type": "code",
   "execution_count": 19,
   "id": "coupled-catering",
   "metadata": {},
   "outputs": [
    {
     "ename": "AttributeError",
     "evalue": "'VJoyDevice' object has no attribute 'return_data'",
     "output_type": "error",
     "traceback": [
      "\u001b[1;31m---------------------------------------------------------------------------\u001b[0m",
      "\u001b[1;31mAttributeError\u001b[0m                            Traceback (most recent call last)",
      "\u001b[1;32m<ipython-input-19-c8857830a3b4>\u001b[0m in \u001b[0;36m<module>\u001b[1;34m\u001b[0m\n\u001b[1;32m----> 1\u001b[1;33m \u001b[0mj\u001b[0m\u001b[1;33m.\u001b[0m\u001b[0mreturn_data\u001b[0m\u001b[1;33m(\u001b[0m\u001b[1;33m)\u001b[0m\u001b[1;33m\u001b[0m\u001b[1;33m\u001b[0m\u001b[0m\n\u001b[0m",
      "\u001b[1;31mAttributeError\u001b[0m: 'VJoyDevice' object has no attribute 'return_data'"
     ]
    }
   ],
   "source": [
    "j.return_data()"
   ]
  },
  {
   "cell_type": "code",
   "execution_count": 18,
   "id": "bored-hanging",
   "metadata": {},
   "outputs": [
    {
     "data": {
      "text/plain": [
       "16383"
      ]
     },
     "execution_count": 18,
     "metadata": {},
     "output_type": "execute_result"
    }
   ],
   "source": [
    "j.data.wAxisX"
   ]
  },
  {
   "cell_type": "code",
   "execution_count": 14,
   "id": "large-colorado",
   "metadata": {},
   "outputs": [],
   "source": [
    "play_function(j, 0.5)"
   ]
  },
  {
   "cell_type": "code",
   "execution_count": null,
   "id": "homeless-heavy",
   "metadata": {},
   "outputs": [],
   "source": []
  },
  {
   "cell_type": "code",
   "execution_count": null,
   "id": "aggressive-encyclopedia",
   "metadata": {},
   "outputs": [],
   "source": []
  },
  {
   "cell_type": "code",
   "execution_count": null,
   "id": "greek-japanese",
   "metadata": {},
   "outputs": [],
   "source": []
  },
  {
   "cell_type": "code",
   "execution_count": 9,
   "id": "religious-tissue",
   "metadata": {},
   "outputs": [
    {
     "data": {
      "text/plain": [
       "1"
      ]
     },
     "execution_count": 9,
     "metadata": {},
     "output_type": "execute_result"
    }
   ],
   "source": [
    "j.data.wAxisX = 0x4000 \n",
    "j.data.wAxisY= 0x4000\n",
    "j.update()\n"
   ]
  },
  {
   "cell_type": "code",
   "execution_count": 7,
   "id": "optical-elizabeth",
   "metadata": {},
   "outputs": [
    {
     "ename": "KeyboardInterrupt",
     "evalue": "",
     "output_type": "error",
     "traceback": [
      "\u001b[1;31m---------------------------------------------------------------------------\u001b[0m",
      "\u001b[1;31mKeyboardInterrupt\u001b[0m                         Traceback (most recent call last)",
      "\u001b[1;32m<ipython-input-7-335c57e2413c>\u001b[0m in \u001b[0;36m<module>\u001b[1;34m\u001b[0m\n\u001b[0;32m      2\u001b[0m     \u001b[0mj\u001b[0m\u001b[1;33m.\u001b[0m\u001b[0mset_axis\u001b[0m\u001b[1;33m(\u001b[0m\u001b[0mpyvjoy\u001b[0m\u001b[1;33m.\u001b[0m\u001b[0mHID_USAGE_X\u001b[0m\u001b[1;33m,\u001b[0m \u001b[1;36m0x8000\u001b[0m\u001b[1;33m)\u001b[0m\u001b[1;33m\u001b[0m\u001b[1;33m\u001b[0m\u001b[0m\n\u001b[0;32m      3\u001b[0m     \u001b[0mj\u001b[0m\u001b[1;33m.\u001b[0m\u001b[0mupdate\u001b[0m\u001b[1;33m(\u001b[0m\u001b[1;33m)\u001b[0m\u001b[1;33m\u001b[0m\u001b[1;33m\u001b[0m\u001b[0m\n\u001b[1;32m----> 4\u001b[1;33m     \u001b[0mtime\u001b[0m\u001b[1;33m.\u001b[0m\u001b[0msleep\u001b[0m\u001b[1;33m(\u001b[0m\u001b[1;36m0.12\u001b[0m\u001b[1;33m)\u001b[0m\u001b[1;33m\u001b[0m\u001b[1;33m\u001b[0m\u001b[0m\n\u001b[0m",
      "\u001b[1;31mKeyboardInterrupt\u001b[0m: "
     ]
    }
   ],
   "source": [
    "while 1:\n",
    "    j.set_axis(pyvjoy.HID_USAGE_X, 0x8000)\n",
    "    j.update()\n",
    "    time.sleep(0.12)"
   ]
  },
  {
   "cell_type": "code",
   "execution_count": null,
   "id": "divided-modern",
   "metadata": {},
   "outputs": [],
   "source": []
  },
  {
   "cell_type": "code",
   "execution_count": 9,
   "id": "familiar-suicide",
   "metadata": {},
   "outputs": [],
   "source": [
    "a = pyvjoy.VJoyDevice(1)"
   ]
  },
  {
   "cell_type": "code",
   "execution_count": 10,
   "id": "optical-devon",
   "metadata": {},
   "outputs": [
    {
     "data": {
      "text/plain": [
       "<pyvjoy.vjoydevice.VJoyDevice at 0x2af60eac4c0>"
      ]
     },
     "execution_count": 10,
     "metadata": {},
     "output_type": "execute_result"
    }
   ],
   "source": [
    "a."
   ]
  },
  {
   "cell_type": "code",
   "execution_count": 8,
   "id": "composed-anger",
   "metadata": {},
   "outputs": [],
   "source": [
    "import pyvjoy\n",
    "\n",
    "class PlayHelper:\n",
    "\n",
    "    def __init__(self, player_index):\n",
    "        self.device = pyvjoy.VJoyDevice(player_index + 1)\n",
    "\n",
    "    def update_controller(self, output):\n",
    "        self.device.data.wAxisX = output[0]\n",
    "        self.device.data.wAxisY = output[1]\n",
    "        self.device.data.wAxisZRot = output[2]\n",
    "        self.device.data.wAxisZ = output[3]\n",
    "        self.device.data.lButtons = (1 * output[4]) + (2 * output[5]) + (4 * output[6])\n",
    "\n",
    "        self.device.data.wAxisXRot = 16383\n",
    "        self.device.data.wAxisYRot = 16383\n",
    "\n",
    "        self.device.update() # Send data to vJoy device\n"
   ]
  }
 ],
 "metadata": {
  "kernelspec": {
   "display_name": "tf2gpu",
   "language": "python",
   "name": "tf2gpu"
  },
  "language_info": {
   "codemirror_mode": {
    "name": "ipython",
    "version": 3
   },
   "file_extension": ".py",
   "mimetype": "text/x-python",
   "name": "python",
   "nbconvert_exporter": "python",
   "pygments_lexer": "ipython3",
   "version": "3.8.5"
  }
 },
 "nbformat": 4,
 "nbformat_minor": 5
}
