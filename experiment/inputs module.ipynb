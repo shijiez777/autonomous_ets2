{
 "cells": [
  {
   "cell_type": "code",
   "execution_count": 1,
   "id": "understood-spirit",
   "metadata": {},
   "outputs": [],
   "source": [
    "from inputs import devices"
   ]
  },
  {
   "cell_type": "code",
   "execution_count": 9,
   "id": "helpful-yeast",
   "metadata": {},
   "outputs": [
    {
     "data": {
      "text/plain": [
       "[inputs.GamePad(\"/dev/input/by_id/usb-Microsoft_Corporation_Controller_0-event-joystick\")]"
      ]
     },
     "execution_count": 9,
     "metadata": {},
     "output_type": "execute_result"
    }
   ],
   "source": [
    "devices.gamepads"
   ]
  },
  {
   "cell_type": "code",
   "execution_count": 6,
   "id": "tired-surprise",
   "metadata": {},
   "outputs": [
    {
     "data": {
      "text/plain": [
       "[]"
      ]
     },
     "execution_count": 6,
     "metadata": {},
     "output_type": "execute_result"
    }
   ],
   "source": [
    "devices.other_devices"
   ]
  },
  {
   "cell_type": "code",
   "execution_count": 8,
   "id": "relative-afternoon",
   "metadata": {
    "scrolled": true
   },
   "outputs": [
    {
     "name": "stdout",
     "output_type": "stream",
     "text": [
      "Microsoft Keyboard\n",
      "Microsoft Mouse\n",
      "Microsoft X-Box 360 pad\n"
     ]
    }
   ],
   "source": [
    "for d in devices:\n",
    "    print(d)"
   ]
  },
  {
   "cell_type": "code",
   "execution_count": 10,
   "id": "studied-ivory",
   "metadata": {},
   "outputs": [],
   "source": [
    "from inputs import DeviceManager"
   ]
  },
  {
   "cell_type": "code",
   "execution_count": 11,
   "id": "manufactured-possession",
   "metadata": {},
   "outputs": [],
   "source": [
    "devices = DeviceManager()"
   ]
  },
  {
   "cell_type": "code",
   "execution_count": 10,
   "id": "female-memorabilia",
   "metadata": {},
   "outputs": [
    {
     "data": {
      "text/plain": [
       "<inputs.DeviceManager at 0x2a6c91e0d00>"
      ]
     },
     "execution_count": 10,
     "metadata": {},
     "output_type": "execute_result"
    }
   ],
   "source": [
    "devices"
   ]
  },
  {
   "cell_type": "code",
   "execution_count": 14,
   "id": "occupied-monte",
   "metadata": {},
   "outputs": [],
   "source": [
    "gp = devices.gamepads[0]"
   ]
  },
  {
   "cell_type": "code",
   "execution_count": 20,
   "id": "floating-traveler",
   "metadata": {},
   "outputs": [
    {
     "ename": "SyntaxError",
     "evalue": "invalid syntax (<ipython-input-20-dcc6a504f7a7>, line 1)",
     "output_type": "error",
     "traceback": [
      "\u001b[1;36m  File \u001b[1;32m\"<ipython-input-20-dcc6a504f7a7>\"\u001b[1;36m, line \u001b[1;32m1\u001b[0m\n\u001b[1;33m    gp.\u001b[0m\n\u001b[1;37m       ^\u001b[0m\n\u001b[1;31mSyntaxError\u001b[0m\u001b[1;31m:\u001b[0m invalid syntax\n"
     ]
    }
   ],
   "source": [
    "gp."
   ]
  }
 ],
 "metadata": {
  "kernelspec": {
   "display_name": "tf2gpu",
   "language": "python",
   "name": "tf2gpu"
  },
  "language_info": {
   "codemirror_mode": {
    "name": "ipython",
    "version": 3
   },
   "file_extension": ".py",
   "mimetype": "text/x-python",
   "name": "python",
   "nbconvert_exporter": "python",
   "pygments_lexer": "ipython3",
   "version": "3.8.5"
  }
 },
 "nbformat": 4,
 "nbformat_minor": 5
}
